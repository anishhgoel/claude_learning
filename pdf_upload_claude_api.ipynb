{
 "cells": [
  {
   "cell_type": "code",
   "execution_count": 19,
   "metadata": {},
   "outputs": [],
   "source": [
    "import anthropic\n",
    "import base64\n",
    "import httpx"
   ]
  },
  {
   "cell_type": "code",
   "execution_count": 20,
   "metadata": {},
   "outputs": [],
   "source": [
    "client = anthropic.Anthropic(default_headers={\n",
    "     \"anthropic-beta\": \"pdfs-2024-09-25\"\n",
    "     }\n",
    "    )\n",
    "MODEL_NAME = \"claude-3-5-sonnet-20241022\""
   ]
  },
  {
   "cell_type": "code",
   "execution_count": 21,
   "metadata": {},
   "outputs": [],
   "source": [
    "pdf_url = \"https://assets.anthropic.com/m/1cd9d098ac3e6467/original/Claude-3-Model-Card-October-Addendum.pdf\"\n",
    "pdf_data = base64.standard_b64encode(httpx.get(pdf_url).content).decode(\"utf-8\")"
   ]
  },
  {
   "cell_type": "code",
   "execution_count": null,
   "metadata": {},
   "outputs": [],
   "source": [
    "prompt = \"\"\"\n",
    "Please do the folowing : \n",
    "1)Summarize the document in 3 lines.\n",
    "2) Add all the authors after the summary.\n",
    "3) Include number of words at the end of output in <words> tag.\n",
    "To show an example of number of words, here is a sentence: 'Hi there, how are you?' this sentence has 5 words.\n",
    "\"\"\"\n",
    "\n",
    "messages=[\n",
    "        {\n",
    "            \"role\": \"user\",\n",
    "            \"content\": [\n",
    "                {\n",
    "                    \"type\": \"document\",\n",
    "                    \"source\": {\n",
    "                        \"type\": \"base64\",\n",
    "                        \"media_type\": \"application/pdf\",\n",
    "                        \"data\": pdf_data\n",
    "                    }\n",
    "                },\n",
    "                {\n",
    "                    \"type\": \"text\",\n",
    "                    \"text\": prompt\n",
    "                }\n",
    "            ]\n",
    "        }\n",
    "    ]"
   ]
  },
  {
   "cell_type": "code",
   "execution_count": 30,
   "metadata": {},
   "outputs": [],
   "source": [
    "def get_completion(client, messages):\n",
    "    return client.messages.create(\n",
    "        model = MODEL_NAME,\n",
    "        max_tokens = 1024,\n",
    "        messages = messages,\n",
    "        temperature = 0\n",
    "    ).content[0].text"
   ]
  },
  {
   "cell_type": "code",
   "execution_count": 31,
   "metadata": {},
   "outputs": [
    {
     "name": "stdout",
     "output_type": "stream",
     "text": [
      "1) Summary in 3 lines:\n",
      "- This document is a model card addendum describing two new AI models: an upgraded Claude 3.5 Sonnet and new Claude 3.5 Haiku, with improved capabilities in reasoning, coding, and visual processing.\n",
      "- The upgraded Sonnet model introduces computer use abilities, allowing it to interpret GUI screenshots and perform tasks, while both models show enhanced performance across various benchmarks.\n",
      "- Extensive safety evaluations were conducted for both models, including testing for biological, cybersecurity, and autonomous behavior risks.\n",
      "\n",
      "2) Authors:\n",
      "The document is authored by Anthropic, with references to collaborative work with:\n",
      "- C. E. Jimenez, J. Yang, A. Wettig, S. Yao, K. Pei, O. Press, K. Narasimhan\n",
      "- S. Yao, N. Shinn, P. Razavi, K. Narasimhan\n",
      "- T. Xie, D. Zhang, J. Chen, X. Li, S. Zhao, R. Cao, T. J. Hua, Z. Cheng, D. Shin, F. Lei, Y. Liu, Y. Xu, S. Zhou, S. Savarese, C. Xiong, V. Zhong, T. Yu\n",
      "And many other researchers cited in the references section.\n",
      "\n",
      "<words>116</words>\n"
     ]
    }
   ],
   "source": [
    "completion = get_completion(client, messages)\n",
    "print(completion)"
   ]
  },
  {
   "cell_type": "code",
   "execution_count": null,
   "metadata": {},
   "outputs": [],
   "source": []
  }
 ],
 "metadata": {
  "kernelspec": {
   "display_name": "claude-env",
   "language": "python",
   "name": "python3"
  },
  "language_info": {
   "codemirror_mode": {
    "name": "ipython",
    "version": 3
   },
   "file_extension": ".py",
   "mimetype": "text/x-python",
   "name": "python",
   "nbconvert_exporter": "python",
   "pygments_lexer": "ipython3",
   "version": "3.13.0"
  }
 },
 "nbformat": 4,
 "nbformat_minor": 2
}
